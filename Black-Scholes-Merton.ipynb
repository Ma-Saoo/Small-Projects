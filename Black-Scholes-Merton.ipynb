{
 "cells": [
  {
   "cell_type": "code",
   "execution_count": 1,
   "id": "ad90bdd0-e371-4644-bd58-4c26aaae5be4",
   "metadata": {},
   "outputs": [],
   "source": [
    "import numpy as np\n",
    "from scipy.stats import norm"
   ]
  },
  {
   "cell_type": "code",
   "execution_count": 12,
   "id": "a2f8a726-3eaf-421e-ae7d-f54d214ac2b4",
   "metadata": {},
   "outputs": [],
   "source": [
    "def black_scholes_merton(spot, K, r, T, volatility):\n",
    "    d1 =  ( 1 / (volatility*np.sqrt(T)) ) * ( np.log(spot/K) + (r + (volatility**2)/2)*T)\n",
    "    d2 = d1 - volatility * np.sqrt(T)\n",
    "    PV = K * np.exp(-r*T) # Present value of K\n",
    "\n",
    "    cnd1 = norm.cdf(d1) # Cumulative distribution of normal dist. for call option\n",
    "    cnd2 = norm.cdf(d2)\n",
    "\n",
    "    pnd1 = norm.cdf(-d1) # Cumulative distribution of normal dist. for put option\n",
    "    pnd2 = norm.cdf(-d2)\n",
    "\n",
    "    cprice = cnd1*spot - cnd2*PV\n",
    "    pprice = pnd2*PV - pnd1*spot\n",
    "\n",
    "    print(f\"The price of the call option is ${cprice}, while the price of the put option is ${pprice}.\")"
   ]
  },
  {
   "cell_type": "code",
   "execution_count": 15,
   "id": "be4463be-c236-41f4-ae80-57b1bcd07c39",
   "metadata": {},
   "outputs": [
    {
     "name": "stdout",
     "output_type": "stream",
     "text": [
      "The price of the call option is $11.364177353257404, while the price of the put option is $13.161226700391087.\n"
     ]
    }
   ],
   "source": [
    "spot = 50.0; K = 55.0; r = 0.04; T=18/12.0; volatility = 0.5\n",
    "black_scholes_merton(spot, K, r, T, volatility)"
   ]
  },
  {
   "cell_type": "code",
   "execution_count": null,
   "id": "11113e7d-bb2f-4521-8b31-8592ebd3b34c",
   "metadata": {},
   "outputs": [],
   "source": []
  }
 ],
 "metadata": {
  "kernelspec": {
   "display_name": "Python 3 (ipykernel)",
   "language": "python",
   "name": "python3"
  },
  "language_info": {
   "codemirror_mode": {
    "name": "ipython",
    "version": 3
   },
   "file_extension": ".py",
   "mimetype": "text/x-python",
   "name": "python",
   "nbconvert_exporter": "python",
   "pygments_lexer": "ipython3",
   "version": "3.10.11"
  }
 },
 "nbformat": 4,
 "nbformat_minor": 5
}
